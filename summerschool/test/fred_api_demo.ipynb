{
 "cells": [
  {
   "cell_type": "markdown",
   "metadata": {},
   "source": [
    "# FRED-API-DEMO\n",
    "\n",
    "Für die Nutzung der API ist ein Key notwending. Hierzu muss man sich registrieren und den Key beantragen. Das funtkioniert sofort und ohne Prüfung."
   ]
  },
  {
   "cell_type": "code",
   "execution_count": 77,
   "metadata": {},
   "outputs": [],
   "source": [
    "key=\"3547feb4e6f6e4e74faf78d167ffe9d3\""
   ]
  },
  {
   "cell_type": "markdown",
   "metadata": {},
   "source": [
    "## Imports"
   ]
  },
  {
   "cell_type": "code",
   "execution_count": 78,
   "metadata": {},
   "outputs": [],
   "source": [
    "import requests\n",
    "import pandas as pd\n",
    "import matplotlib as plt"
   ]
  },
  {
   "cell_type": "markdown",
   "metadata": {},
   "source": [
    "## Settings"
   ]
  },
  {
   "cell_type": "code",
   "execution_count": 79,
   "metadata": {},
   "outputs": [],
   "source": [
    "%matplotlib inline\n",
    "\n",
    "plt.style.use('fivethirtyeight')\n",
    "\n",
    "COLOR = 'black'\n",
    "plt.rcParams['text.color'] = COLOR\n",
    "plt.rcParams['axes.labelcolor'] = COLOR\n",
    "plt.rcParams['xtick.color'] = COLOR\n",
    "plt.rcParams['ytick.color'] = COLOR"
   ]
  },
  {
   "cell_type": "markdown",
   "metadata": {},
   "source": [
    "## XML-Syntax"
   ]
  },
  {
   "cell_type": "code",
   "execution_count": 80,
   "metadata": {},
   "outputs": [
    {
     "data": {
      "text/plain": [
       "200"
      ]
     },
     "metadata": {},
     "output_type": "display_data"
    },
    {
     "data": {
      "text/plain": [
       "b'<?xml version=\"1.0\" encoding=\"utf-8\" ?>\\n<categories>\\n<category id=\"125\" name=\"Trade Balance\" parent_id=\"13\"/>\\n</categories>'"
      ]
     },
     "metadata": {},
     "output_type": "display_data"
    }
   ],
   "source": [
    "url = f\"https://api.stlouisfed.org/fred/category?category_id=125&api_key={key}\"\n",
    "\n",
    "response = requests.get(url)\n",
    "display(response.status_code)\n",
    "display(response.content)"
   ]
  },
  {
   "cell_type": "markdown",
   "metadata": {},
   "source": [
    "## JSON-Syntax"
   ]
  },
  {
   "cell_type": "markdown",
   "metadata": {},
   "source": [
    "### Basic\n",
    "\n",
    "Es sieht so aus, als ob die Metadaten einer Timeseries serparat von den Observationen abzufragen sind. Die folgende Abfrage liefert die Metadaten zum \"Real Gross National Product\"."
   ]
  },
  {
   "cell_type": "code",
   "execution_count": 81,
   "metadata": {},
   "outputs": [
    {
     "data": {
      "text/plain": [
       "200"
      ]
     },
     "metadata": {},
     "output_type": "display_data"
    },
    {
     "data": {
      "text/plain": [
       "b'{\"realtime_start\":\"2022-07-22\",\"realtime_end\":\"2022-07-22\",\"seriess\":[{\"id\":\"GNPCA\",\"realtime_start\":\"2022-07-22\",\"realtime_end\":\"2022-07-22\",\"title\":\"Real Gross National Product\",\"observation_start\":\"1929-01-01\",\"observation_end\":\"2021-01-01\",\"frequency\":\"Annual\",\"frequency_short\":\"A\",\"units\":\"Billions of Chained 2012 Dollars\",\"units_short\":\"Bil. of Chn. 2012 $\",\"seasonal_adjustment\":\"Not Seasonally Adjusted\",\"seasonal_adjustment_short\":\"NSA\",\"last_updated\":\"2022-03-30 07:55:26-05\",\"popularity\":15,\"notes\":\"BEA Account Code: A001RX\\\\n\\\\n\"}]}'"
      ]
     },
     "metadata": {},
     "output_type": "display_data"
    },
    {
     "data": {
      "text/plain": [
       "{'realtime_start': '2022-07-22',\n",
       " 'realtime_end': '2022-07-22',\n",
       " 'seriess': [{'id': 'GNPCA',\n",
       "   'realtime_start': '2022-07-22',\n",
       "   'realtime_end': '2022-07-22',\n",
       "   'title': 'Real Gross National Product',\n",
       "   'observation_start': '1929-01-01',\n",
       "   'observation_end': '2021-01-01',\n",
       "   'frequency': 'Annual',\n",
       "   'frequency_short': 'A',\n",
       "   'units': 'Billions of Chained 2012 Dollars',\n",
       "   'units_short': 'Bil. of Chn. 2012 $',\n",
       "   'seasonal_adjustment': 'Not Seasonally Adjusted',\n",
       "   'seasonal_adjustment_short': 'NSA',\n",
       "   'last_updated': '2022-03-30 07:55:26-05',\n",
       "   'popularity': 15,\n",
       "   'notes': 'BEA Account Code: A001RX\\n\\n'}]}"
      ]
     },
     "metadata": {},
     "output_type": "display_data"
    }
   ],
   "source": [
    "url = f\"https://api.stlouisfed.org/fred/series?series_id=GNPCA&api_key={key}&file_type=json\"\n",
    "\n",
    "response = requests.get(url)\n",
    "display(response.status_code)\n",
    "display(response.content)\n",
    "display(response.json())"
   ]
  },
  {
   "cell_type": "markdown",
   "metadata": {},
   "source": [
    "### Timeseries\n",
    "\n",
    "Die tatsächlichen Observationen bekommt man dann über die folgende Abfrage."
   ]
  },
  {
   "cell_type": "code",
   "execution_count": 82,
   "metadata": {},
   "outputs": [
    {
     "data": {
      "text/plain": [
       "200"
      ]
     },
     "metadata": {},
     "output_type": "display_data"
    },
    {
     "data": {
      "text/plain": [
       "b'{\"realtime_start\":\"2022-07-22\",\"realtime_end\":\"2022-07-22\",\"observation_start\":\"1600-01-01\",\"observation_end\":\"9999-12-31\",\"units\":\"lin\",\"output_type\":1,\"file_type\":\"json\",\"order_by\":\"observation_date\",\"sort_order\":\"asc\",\"count\":93,\"offset\":0,\"limit\":100000,\"observations\":[{\"realtime_start\":\"2022-07-22\",\"realtime_end\":\"2022-07-22\",\"date\":\"1929-01-01\",\"value\":\"1120.718\"},{\"realtime_start\":\"2022-07-22\",\"realtime_end\":\"2022-07-22\",\"date\":\"1930-01-01\",\"value\":\"1025.678\"},{\"realtime_start\":\"2022-07-22\",\"realtime_end\":\"2022-07-22\",\"date\":\"1931-01-01\",\"value\":\"958.927\"},{\"realtime_start\":\"2022-07-22\",\"realtime_end\":\"2022-07-22\",\"date\":\"1932-01-01\",\"value\":\"834.769\"},{\"realtime_start\":\"2022-07-22\",\"realtime_end\":\"2022-07-22\",\"date\":\"1933-01-01\",\"value\":\"823.628\"},{\"realtime_start\":\"2022-07-22\",\"realtime_end\":\"2022-07-22\",\"date\":\"1934-01-01\",\"value\":\"911.541\"},{\"realtime_start\":\"2022-07-22\",\"realtime_end\":\"2022-07-22\",\"date\":\"1935-01-01\",\"value\":\"993.105\"},{\"realtime_start\":\"2022-07-22\",\"realtime_end\":\"2022-07-22\",\"date\":\"1936-01-01\",\"value\":\"1119.585\"},{\"realtime_start\":\"2022-07-22\",\"realtime_end\":\"2022-07-22\",\"date\":\"1937-01-01\",\"value\":\"1178.246\"},{\"realtime_start\":\"2022-07-22\",\"realtime_end\":\"2022-07-22\",\"date\":\"1938-01-01\",\"value\":\"1139.642\"},{\"realtime_start\":\"2022-07-22\",\"realtime_end\":\"2022-07-22\",\"date\":\"1939-01-01\",\"value\":\"1230.925\"},{\"realtime_start\":\"2022-07-22\",\"realtime_end\":\"2022-07-22\",\"date\":\"1940-01-01\",\"value\":\"1337.841\"},{\"realtime_start\":\"2022-07-22\",\"realtime_end\":\"2022-07-22\",\"date\":\"1941-01-01\",\"value\":\"1575.642\"},{\"realtime_start\":\"2022-07-22\",\"realtime_end\":\"2022-07-22\",\"date\":\"1942-01-01\",\"value\":\"1871.983\"},{\"realtime_start\":\"2022-07-22\",\"realtime_end\":\"2022-07-22\",\"date\":\"1943-01-01\",\"value\":\"2189.071\"},{\"realtime_start\":\"2022-07-22\",\"realtime_end\":\"2022-07-22\",\"date\":\"1944-01-01\",\"value\":\"2362.975\"},{\"realtime_start\":\"2022-07-22\",\"realtime_end\":\"2022-07-22\",\"date\":\"1945-01-01\",\"value\":\"2338.969\"},{\"realtime_start\":\"2022-07-22\",\"realtime_end\":\"2022-07-22\",\"date\":\"1946-01-01\",\"value\":\"2070.151\"},{\"realtime_start\":\"2022-07-22\",\"realtime_end\":\"2022-07-22\",\"date\":\"1947-01-01\",\"value\":\"2049.467\"},{\"realtime_start\":\"2022-07-22\",\"realtime_end\":\"2022-07-22\",\"date\":\"1948-01-01\",\"value\":\"2135.513\"},{\"realtime_start\":\"2022-07-22\",\"realtime_end\":\"2022-07-22\",\"date\":\"1949-01-01\",\"value\":\"2122.417\"},{\"realtime_start\":\"2022-07-22\",\"realtime_end\":\"2022-07-22\",\"date\":\"1950-01-01\",\"value\":\"2306.989\"},{\"realtime_start\":\"2022-07-22\",\"realtime_end\":\"2022-07-22\",\"date\":\"1951-01-01\",\"value\":\"2494.576\"},{\"realtime_start\":\"2022-07-22\",\"realtime_end\":\"2022-07-22\",\"date\":\"1952-01-01\",\"value\":\"2596.421\"},{\"realtime_start\":\"2022-07-22\",\"realtime_end\":\"2022-07-22\",\"date\":\"1953-01-01\",\"value\":\"2716.622\"},{\"realtime_start\":\"2022-07-22\",\"realtime_end\":\"2022-07-22\",\"date\":\"1954-01-01\",\"value\":\"2702.089\"},{\"realtime_start\":\"2022-07-22\",\"realtime_end\":\"2022-07-22\",\"date\":\"1955-01-01\",\"value\":\"2895.628\"},{\"realtime_start\":\"2022-07-22\",\"realtime_end\":\"2022-07-22\",\"date\":\"1956-01-01\",\"value\":\"2958.791\"},{\"realtime_start\":\"2022-07-22\",\"realtime_end\":\"2022-07-22\",\"date\":\"1957-01-01\",\"value\":\"3021.813\"},{\"realtime_start\":\"2022-07-22\",\"realtime_end\":\"2022-07-22\",\"date\":\"1958-01-01\",\"value\":\"2996.399\"},{\"realtime_start\":\"2022-07-22\",\"realtime_end\":\"2022-07-22\",\"date\":\"1959-01-01\",\"value\":\"3203.383\"},{\"realtime_start\":\"2022-07-22\",\"realtime_end\":\"2022-07-22\",\"date\":\"1960-01-01\",\"value\":\"3287.198\"},{\"realtime_start\":\"2022-07-22\",\"realtime_end\":\"2022-07-22\",\"date\":\"1961-01-01\",\"value\":\"3373.14\"},{\"realtime_start\":\"2022-07-22\",\"realtime_end\":\"2022-07-22\",\"date\":\"1962-01-01\",\"value\":\"3581.347\"},{\"realtime_start\":\"2022-07-22\",\"realtime_end\":\"2022-07-22\",\"date\":\"1963-01-01\",\"value\":\"3738.045\"},{\"realtime_start\":\"2022-07-22\",\"realtime_end\":\"2022-07-22\",\"date\":\"1964-01-01\",\"value\":\"3954.0\"},{\"realtime_start\":\"2022-07-22\",\"realtime_end\":\"2022-07-22\",\"date\":\"1965-01-01\",\"value\":\"4210.314\"},{\"realtime_start\":\"2022-07-22\",\"realtime_end\":\"2022-07-22\",\"date\":\"1966-01-01\",\"value\":\"4483.972\"},{\"realtime_start\":\"2022-07-22\",\"realtime_end\":\"2022-07-22\",\"date\":\"1967-01-01\",\"value\":\"4607.057\"},{\"realtime_start\":\"2022-07-22\",\"realtime_end\":\"2022-07-22\",\"date\":\"1968-01-01\",\"value\":\"4834.326\"},{\"realtime_start\":\"2022-07-22\",\"realtime_end\":\"2022-07-22\",\"date\":\"1969-01-01\",\"value\":\"4983.311\"},{\"realtime_start\":\"2022-07-22\",\"realtime_end\":\"2022-07-22\",\"date\":\"1970-01-01\",\"value\":\"4992.183\"},{\"realtime_start\":\"2022-07-22\",\"realtime_end\":\"2022-07-22\",\"date\":\"1971-01-01\",\"value\":\"5159.148\"},{\"realtime_start\":\"2022-07-22\",\"realtime_end\":\"2022-07-22\",\"date\":\"1972-01-01\",\"value\":\"5431.25\"},{\"realtime_start\":\"2022-07-22\",\"realtime_end\":\"2022-07-22\",\"date\":\"1973-01-01\",\"value\":\"5749.44\"},{\"realtime_start\":\"2022-07-22\",\"realtime_end\":\"2022-07-22\",\"date\":\"1974-01-01\",\"value\":\"5726.106\"},{\"realtime_start\":\"2022-07-22\",\"realtime_end\":\"2022-07-22\",\"date\":\"1975-01-01\",\"value\":\"5700.701\"},{\"realtime_start\":\"2022-07-22\",\"realtime_end\":\"2022-07-22\",\"date\":\"1976-01-01\",\"value\":\"6014.406\"},{\"realtime_start\":\"2022-07-22\",\"realtime_end\":\"2022-07-22\",\"date\":\"1977-01-01\",\"value\":\"6296.866\"},{\"realtime_start\":\"2022-07-22\",\"realtime_end\":\"2022-07-22\",\"date\":\"1978-01-01\",\"value\":\"6641.362\"},{\"realtime_start\":\"2022-07-22\",\"realtime_end\":\"2022-07-22\",\"date\":\"1979-01-01\",\"value\":\"6871.738\"},{\"realtime_start\":\"2022-07-22\",\"realtime_end\":\"2022-07-22\",\"date\":\"1980-01-01\",\"value\":\"6853.455\"},{\"realtime_start\":\"2022-07-22\",\"realtime_end\":\"2022-07-22\",\"date\":\"1981-01-01\",\"value\":\"7014.945\"},{\"realtime_start\":\"2022-07-22\",\"realtime_end\":\"2022-07-22\",\"date\":\"1982-01-01\",\"value\":\"6893.027\"},{\"realtime_start\":\"2022-07-22\",\"realtime_end\":\"2022-07-22\",\"date\":\"1983-01-01\",\"value\":\"7203.261\"},{\"realtime_start\":\"2022-07-22\",\"realtime_end\":\"2022-07-22\",\"date\":\"1984-01-01\",\"value\":\"7715.155\"},{\"realtime_start\":\"2022-07-22\",\"realtime_end\":\"2022-07-22\",\"date\":\"1985-01-01\",\"value\":\"8011.781\"},{\"realtime_start\":\"2022-07-22\",\"realtime_end\":\"2022-07-22\",\"date\":\"1986-01-01\",\"value\":\"8270.745\"},{\"realtime_start\":\"2022-07-22\",\"realtime_end\":\"2022-07-22\",\"date\":\"1987-01-01\",\"value\":\"8553.636\"},{\"realtime_start\":\"2022-07-22\",\"realtime_end\":\"2022-07-22\",\"date\":\"1988-01-01\",\"value\":\"8916.983\"},{\"realtime_start\":\"2022-07-22\",\"realtime_end\":\"2022-07-22\",\"date\":\"1989-01-01\",\"value\":\"9244.062\"},{\"realtime_start\":\"2022-07-22\",\"realtime_end\":\"2022-07-22\",\"date\":\"1990-01-01\",\"value\":\"9430.025\"},{\"realtime_start\":\"2022-07-22\",\"realtime_end\":\"2022-07-22\",\"date\":\"1991-01-01\",\"value\":\"9411.632\"},{\"realtime_start\":\"2022-07-22\",\"realtime_end\":\"2022-07-22\",\"date\":\"1992-01-01\",\"value\":\"9739.841\"},{\"realtime_start\":\"2022-07-22\",\"realtime_end\":\"2022-07-22\",\"date\":\"1993-01-01\",\"value\":\"10006.004\"},{\"realtime_start\":\"2022-07-22\",\"realtime_end\":\"2022-07-22\",\"date\":\"1994-01-01\",\"value\":\"10395.034\"},{\"realtime_start\":\"2022-07-22\",\"realtime_end\":\"2022-07-22\",\"date\":\"1995-01-01\",\"value\":\"10678.341\"},{\"realtime_start\":\"2022-07-22\",\"realtime_end\":\"2022-07-22\",\"date\":\"1996-01-01\",\"value\":\"11082.604\"},{\"realtime_start\":\"2022-07-22\",\"realtime_end\":\"2022-07-22\",\"date\":\"1997-01-01\",\"value\":\"11562.713\"},{\"realtime_start\":\"2022-07-22\",\"realtime_end\":\"2022-07-22\",\"date\":\"1998-01-01\",\"value\":\"12070.819\"},{\"realtime_start\":\"2022-07-22\",\"realtime_end\":\"2022-07-22\",\"date\":\"1999-01-01\",\"value\":\"12664.858\"},{\"realtime_start\":\"2022-07-22\",\"realtime_end\":\"2022-07-22\",\"date\":\"2000-01-01\",\"value\":\"13188.215\"},{\"realtime_start\":\"2022-07-22\",\"realtime_end\":\"2022-07-22\",\"date\":\"2001-01-01\",\"value\":\"13327.597\"},{\"realtime_start\":\"2022-07-22\",\"realtime_end\":\"2022-07-22\",\"date\":\"2002-01-01\",\"value\":\"13546.065\"},{\"realtime_start\":\"2022-07-22\",\"realtime_end\":\"2022-07-22\",\"date\":\"2003-01-01\",\"value\":\"13937.444\"},{\"realtime_start\":\"2022-07-22\",\"realtime_end\":\"2022-07-22\",\"date\":\"2004-01-01\",\"value\":\"14491.356\"},{\"realtime_start\":\"2022-07-22\",\"realtime_end\":\"2022-07-22\",\"date\":\"2005-01-01\",\"value\":\"14987.679\"},{\"realtime_start\":\"2022-07-22\",\"realtime_end\":\"2022-07-22\",\"date\":\"2006-01-01\",\"value\":\"15368.242\"},{\"realtime_start\":\"2022-07-22\",\"realtime_end\":\"2022-07-22\",\"date\":\"2007-01-01\",\"value\":\"15727.504\"},{\"realtime_start\":\"2022-07-22\",\"realtime_end\":\"2022-07-22\",\"date\":\"2008-01-01\",\"value\":\"15796.274\"},{\"realtime_start\":\"2022-07-22\",\"realtime_end\":\"2022-07-22\",\"date\":\"2009-01-01\",\"value\":\"15395.345\"},{\"realtime_start\":\"2022-07-22\",\"realtime_end\":\"2022-07-22\",\"date\":\"2010-01-01\",\"value\":\"15863.425\"},{\"realtime_start\":\"2022-07-22\",\"realtime_end\":\"2022-07-22\",\"date\":\"2011-01-01\",\"value\":\"16133.673\"},{\"realtime_start\":\"2022-07-22\",\"realtime_end\":\"2022-07-22\",\"date\":\"2012-01-01\",\"value\":\"16486.727\"},{\"realtime_start\":\"2022-07-22\",\"realtime_end\":\"2022-07-22\",\"date\":\"2013-01-01\",\"value\":\"16780.258\"},{\"realtime_start\":\"2022-07-22\",\"realtime_end\":\"2022-07-22\",\"date\":\"2014-01-01\",\"value\":\"17159.215\"},{\"realtime_start\":\"2022-07-22\",\"realtime_end\":\"2022-07-22\",\"date\":\"2015-01-01\",\"value\":\"17602.487\"},{\"realtime_start\":\"2022-07-22\",\"realtime_end\":\"2022-07-22\",\"date\":\"2016-01-01\",\"value\":\"17901.894\"},{\"realtime_start\":\"2022-07-22\",\"realtime_end\":\"2022-07-22\",\"date\":\"2017-01-01\",\"value\":\"18354.584\"},{\"realtime_start\":\"2022-07-22\",\"realtime_end\":\"2022-07-22\",\"date\":\"2018-01-01\",\"value\":\"18874.582\"},{\"realtime_start\":\"2022-07-22\",\"realtime_end\":\"2022-07-22\",\"date\":\"2019-01-01\",\"value\":\"19271.92\"},{\"realtime_start\":\"2022-07-22\",\"realtime_end\":\"2022-07-22\",\"date\":\"2020-01-01\",\"value\":\"18582.295\"},{\"realtime_start\":\"2022-07-22\",\"realtime_end\":\"2022-07-22\",\"date\":\"2021-01-01\",\"value\":\"19644.028\"}]}'"
      ]
     },
     "metadata": {},
     "output_type": "display_data"
    },
    {
     "data": {
      "text/plain": [
       "{'realtime_start': '2022-07-22',\n",
       " 'realtime_end': '2022-07-22',\n",
       " 'observation_start': '1600-01-01',\n",
       " 'observation_end': '9999-12-31',\n",
       " 'units': 'lin',\n",
       " 'output_type': 1,\n",
       " 'file_type': 'json',\n",
       " 'order_by': 'observation_date',\n",
       " 'sort_order': 'asc',\n",
       " 'count': 93,\n",
       " 'offset': 0,\n",
       " 'limit': 100000,\n",
       " 'observations': [{'realtime_start': '2022-07-22',\n",
       "   'realtime_end': '2022-07-22',\n",
       "   'date': '1929-01-01',\n",
       "   'value': '1120.718'},\n",
       "  {'realtime_start': '2022-07-22',\n",
       "   'realtime_end': '2022-07-22',\n",
       "   'date': '1930-01-01',\n",
       "   'value': '1025.678'},\n",
       "  {'realtime_start': '2022-07-22',\n",
       "   'realtime_end': '2022-07-22',\n",
       "   'date': '1931-01-01',\n",
       "   'value': '958.927'},\n",
       "  {'realtime_start': '2022-07-22',\n",
       "   'realtime_end': '2022-07-22',\n",
       "   'date': '1932-01-01',\n",
       "   'value': '834.769'},\n",
       "  {'realtime_start': '2022-07-22',\n",
       "   'realtime_end': '2022-07-22',\n",
       "   'date': '1933-01-01',\n",
       "   'value': '823.628'},\n",
       "  {'realtime_start': '2022-07-22',\n",
       "   'realtime_end': '2022-07-22',\n",
       "   'date': '1934-01-01',\n",
       "   'value': '911.541'},\n",
       "  {'realtime_start': '2022-07-22',\n",
       "   'realtime_end': '2022-07-22',\n",
       "   'date': '1935-01-01',\n",
       "   'value': '993.105'},\n",
       "  {'realtime_start': '2022-07-22',\n",
       "   'realtime_end': '2022-07-22',\n",
       "   'date': '1936-01-01',\n",
       "   'value': '1119.585'},\n",
       "  {'realtime_start': '2022-07-22',\n",
       "   'realtime_end': '2022-07-22',\n",
       "   'date': '1937-01-01',\n",
       "   'value': '1178.246'},\n",
       "  {'realtime_start': '2022-07-22',\n",
       "   'realtime_end': '2022-07-22',\n",
       "   'date': '1938-01-01',\n",
       "   'value': '1139.642'},\n",
       "  {'realtime_start': '2022-07-22',\n",
       "   'realtime_end': '2022-07-22',\n",
       "   'date': '1939-01-01',\n",
       "   'value': '1230.925'},\n",
       "  {'realtime_start': '2022-07-22',\n",
       "   'realtime_end': '2022-07-22',\n",
       "   'date': '1940-01-01',\n",
       "   'value': '1337.841'},\n",
       "  {'realtime_start': '2022-07-22',\n",
       "   'realtime_end': '2022-07-22',\n",
       "   'date': '1941-01-01',\n",
       "   'value': '1575.642'},\n",
       "  {'realtime_start': '2022-07-22',\n",
       "   'realtime_end': '2022-07-22',\n",
       "   'date': '1942-01-01',\n",
       "   'value': '1871.983'},\n",
       "  {'realtime_start': '2022-07-22',\n",
       "   'realtime_end': '2022-07-22',\n",
       "   'date': '1943-01-01',\n",
       "   'value': '2189.071'},\n",
       "  {'realtime_start': '2022-07-22',\n",
       "   'realtime_end': '2022-07-22',\n",
       "   'date': '1944-01-01',\n",
       "   'value': '2362.975'},\n",
       "  {'realtime_start': '2022-07-22',\n",
       "   'realtime_end': '2022-07-22',\n",
       "   'date': '1945-01-01',\n",
       "   'value': '2338.969'},\n",
       "  {'realtime_start': '2022-07-22',\n",
       "   'realtime_end': '2022-07-22',\n",
       "   'date': '1946-01-01',\n",
       "   'value': '2070.151'},\n",
       "  {'realtime_start': '2022-07-22',\n",
       "   'realtime_end': '2022-07-22',\n",
       "   'date': '1947-01-01',\n",
       "   'value': '2049.467'},\n",
       "  {'realtime_start': '2022-07-22',\n",
       "   'realtime_end': '2022-07-22',\n",
       "   'date': '1948-01-01',\n",
       "   'value': '2135.513'},\n",
       "  {'realtime_start': '2022-07-22',\n",
       "   'realtime_end': '2022-07-22',\n",
       "   'date': '1949-01-01',\n",
       "   'value': '2122.417'},\n",
       "  {'realtime_start': '2022-07-22',\n",
       "   'realtime_end': '2022-07-22',\n",
       "   'date': '1950-01-01',\n",
       "   'value': '2306.989'},\n",
       "  {'realtime_start': '2022-07-22',\n",
       "   'realtime_end': '2022-07-22',\n",
       "   'date': '1951-01-01',\n",
       "   'value': '2494.576'},\n",
       "  {'realtime_start': '2022-07-22',\n",
       "   'realtime_end': '2022-07-22',\n",
       "   'date': '1952-01-01',\n",
       "   'value': '2596.421'},\n",
       "  {'realtime_start': '2022-07-22',\n",
       "   'realtime_end': '2022-07-22',\n",
       "   'date': '1953-01-01',\n",
       "   'value': '2716.622'},\n",
       "  {'realtime_start': '2022-07-22',\n",
       "   'realtime_end': '2022-07-22',\n",
       "   'date': '1954-01-01',\n",
       "   'value': '2702.089'},\n",
       "  {'realtime_start': '2022-07-22',\n",
       "   'realtime_end': '2022-07-22',\n",
       "   'date': '1955-01-01',\n",
       "   'value': '2895.628'},\n",
       "  {'realtime_start': '2022-07-22',\n",
       "   'realtime_end': '2022-07-22',\n",
       "   'date': '1956-01-01',\n",
       "   'value': '2958.791'},\n",
       "  {'realtime_start': '2022-07-22',\n",
       "   'realtime_end': '2022-07-22',\n",
       "   'date': '1957-01-01',\n",
       "   'value': '3021.813'},\n",
       "  {'realtime_start': '2022-07-22',\n",
       "   'realtime_end': '2022-07-22',\n",
       "   'date': '1958-01-01',\n",
       "   'value': '2996.399'},\n",
       "  {'realtime_start': '2022-07-22',\n",
       "   'realtime_end': '2022-07-22',\n",
       "   'date': '1959-01-01',\n",
       "   'value': '3203.383'},\n",
       "  {'realtime_start': '2022-07-22',\n",
       "   'realtime_end': '2022-07-22',\n",
       "   'date': '1960-01-01',\n",
       "   'value': '3287.198'},\n",
       "  {'realtime_start': '2022-07-22',\n",
       "   'realtime_end': '2022-07-22',\n",
       "   'date': '1961-01-01',\n",
       "   'value': '3373.14'},\n",
       "  {'realtime_start': '2022-07-22',\n",
       "   'realtime_end': '2022-07-22',\n",
       "   'date': '1962-01-01',\n",
       "   'value': '3581.347'},\n",
       "  {'realtime_start': '2022-07-22',\n",
       "   'realtime_end': '2022-07-22',\n",
       "   'date': '1963-01-01',\n",
       "   'value': '3738.045'},\n",
       "  {'realtime_start': '2022-07-22',\n",
       "   'realtime_end': '2022-07-22',\n",
       "   'date': '1964-01-01',\n",
       "   'value': '3954.0'},\n",
       "  {'realtime_start': '2022-07-22',\n",
       "   'realtime_end': '2022-07-22',\n",
       "   'date': '1965-01-01',\n",
       "   'value': '4210.314'},\n",
       "  {'realtime_start': '2022-07-22',\n",
       "   'realtime_end': '2022-07-22',\n",
       "   'date': '1966-01-01',\n",
       "   'value': '4483.972'},\n",
       "  {'realtime_start': '2022-07-22',\n",
       "   'realtime_end': '2022-07-22',\n",
       "   'date': '1967-01-01',\n",
       "   'value': '4607.057'},\n",
       "  {'realtime_start': '2022-07-22',\n",
       "   'realtime_end': '2022-07-22',\n",
       "   'date': '1968-01-01',\n",
       "   'value': '4834.326'},\n",
       "  {'realtime_start': '2022-07-22',\n",
       "   'realtime_end': '2022-07-22',\n",
       "   'date': '1969-01-01',\n",
       "   'value': '4983.311'},\n",
       "  {'realtime_start': '2022-07-22',\n",
       "   'realtime_end': '2022-07-22',\n",
       "   'date': '1970-01-01',\n",
       "   'value': '4992.183'},\n",
       "  {'realtime_start': '2022-07-22',\n",
       "   'realtime_end': '2022-07-22',\n",
       "   'date': '1971-01-01',\n",
       "   'value': '5159.148'},\n",
       "  {'realtime_start': '2022-07-22',\n",
       "   'realtime_end': '2022-07-22',\n",
       "   'date': '1972-01-01',\n",
       "   'value': '5431.25'},\n",
       "  {'realtime_start': '2022-07-22',\n",
       "   'realtime_end': '2022-07-22',\n",
       "   'date': '1973-01-01',\n",
       "   'value': '5749.44'},\n",
       "  {'realtime_start': '2022-07-22',\n",
       "   'realtime_end': '2022-07-22',\n",
       "   'date': '1974-01-01',\n",
       "   'value': '5726.106'},\n",
       "  {'realtime_start': '2022-07-22',\n",
       "   'realtime_end': '2022-07-22',\n",
       "   'date': '1975-01-01',\n",
       "   'value': '5700.701'},\n",
       "  {'realtime_start': '2022-07-22',\n",
       "   'realtime_end': '2022-07-22',\n",
       "   'date': '1976-01-01',\n",
       "   'value': '6014.406'},\n",
       "  {'realtime_start': '2022-07-22',\n",
       "   'realtime_end': '2022-07-22',\n",
       "   'date': '1977-01-01',\n",
       "   'value': '6296.866'},\n",
       "  {'realtime_start': '2022-07-22',\n",
       "   'realtime_end': '2022-07-22',\n",
       "   'date': '1978-01-01',\n",
       "   'value': '6641.362'},\n",
       "  {'realtime_start': '2022-07-22',\n",
       "   'realtime_end': '2022-07-22',\n",
       "   'date': '1979-01-01',\n",
       "   'value': '6871.738'},\n",
       "  {'realtime_start': '2022-07-22',\n",
       "   'realtime_end': '2022-07-22',\n",
       "   'date': '1980-01-01',\n",
       "   'value': '6853.455'},\n",
       "  {'realtime_start': '2022-07-22',\n",
       "   'realtime_end': '2022-07-22',\n",
       "   'date': '1981-01-01',\n",
       "   'value': '7014.945'},\n",
       "  {'realtime_start': '2022-07-22',\n",
       "   'realtime_end': '2022-07-22',\n",
       "   'date': '1982-01-01',\n",
       "   'value': '6893.027'},\n",
       "  {'realtime_start': '2022-07-22',\n",
       "   'realtime_end': '2022-07-22',\n",
       "   'date': '1983-01-01',\n",
       "   'value': '7203.261'},\n",
       "  {'realtime_start': '2022-07-22',\n",
       "   'realtime_end': '2022-07-22',\n",
       "   'date': '1984-01-01',\n",
       "   'value': '7715.155'},\n",
       "  {'realtime_start': '2022-07-22',\n",
       "   'realtime_end': '2022-07-22',\n",
       "   'date': '1985-01-01',\n",
       "   'value': '8011.781'},\n",
       "  {'realtime_start': '2022-07-22',\n",
       "   'realtime_end': '2022-07-22',\n",
       "   'date': '1986-01-01',\n",
       "   'value': '8270.745'},\n",
       "  {'realtime_start': '2022-07-22',\n",
       "   'realtime_end': '2022-07-22',\n",
       "   'date': '1987-01-01',\n",
       "   'value': '8553.636'},\n",
       "  {'realtime_start': '2022-07-22',\n",
       "   'realtime_end': '2022-07-22',\n",
       "   'date': '1988-01-01',\n",
       "   'value': '8916.983'},\n",
       "  {'realtime_start': '2022-07-22',\n",
       "   'realtime_end': '2022-07-22',\n",
       "   'date': '1989-01-01',\n",
       "   'value': '9244.062'},\n",
       "  {'realtime_start': '2022-07-22',\n",
       "   'realtime_end': '2022-07-22',\n",
       "   'date': '1990-01-01',\n",
       "   'value': '9430.025'},\n",
       "  {'realtime_start': '2022-07-22',\n",
       "   'realtime_end': '2022-07-22',\n",
       "   'date': '1991-01-01',\n",
       "   'value': '9411.632'},\n",
       "  {'realtime_start': '2022-07-22',\n",
       "   'realtime_end': '2022-07-22',\n",
       "   'date': '1992-01-01',\n",
       "   'value': '9739.841'},\n",
       "  {'realtime_start': '2022-07-22',\n",
       "   'realtime_end': '2022-07-22',\n",
       "   'date': '1993-01-01',\n",
       "   'value': '10006.004'},\n",
       "  {'realtime_start': '2022-07-22',\n",
       "   'realtime_end': '2022-07-22',\n",
       "   'date': '1994-01-01',\n",
       "   'value': '10395.034'},\n",
       "  {'realtime_start': '2022-07-22',\n",
       "   'realtime_end': '2022-07-22',\n",
       "   'date': '1995-01-01',\n",
       "   'value': '10678.341'},\n",
       "  {'realtime_start': '2022-07-22',\n",
       "   'realtime_end': '2022-07-22',\n",
       "   'date': '1996-01-01',\n",
       "   'value': '11082.604'},\n",
       "  {'realtime_start': '2022-07-22',\n",
       "   'realtime_end': '2022-07-22',\n",
       "   'date': '1997-01-01',\n",
       "   'value': '11562.713'},\n",
       "  {'realtime_start': '2022-07-22',\n",
       "   'realtime_end': '2022-07-22',\n",
       "   'date': '1998-01-01',\n",
       "   'value': '12070.819'},\n",
       "  {'realtime_start': '2022-07-22',\n",
       "   'realtime_end': '2022-07-22',\n",
       "   'date': '1999-01-01',\n",
       "   'value': '12664.858'},\n",
       "  {'realtime_start': '2022-07-22',\n",
       "   'realtime_end': '2022-07-22',\n",
       "   'date': '2000-01-01',\n",
       "   'value': '13188.215'},\n",
       "  {'realtime_start': '2022-07-22',\n",
       "   'realtime_end': '2022-07-22',\n",
       "   'date': '2001-01-01',\n",
       "   'value': '13327.597'},\n",
       "  {'realtime_start': '2022-07-22',\n",
       "   'realtime_end': '2022-07-22',\n",
       "   'date': '2002-01-01',\n",
       "   'value': '13546.065'},\n",
       "  {'realtime_start': '2022-07-22',\n",
       "   'realtime_end': '2022-07-22',\n",
       "   'date': '2003-01-01',\n",
       "   'value': '13937.444'},\n",
       "  {'realtime_start': '2022-07-22',\n",
       "   'realtime_end': '2022-07-22',\n",
       "   'date': '2004-01-01',\n",
       "   'value': '14491.356'},\n",
       "  {'realtime_start': '2022-07-22',\n",
       "   'realtime_end': '2022-07-22',\n",
       "   'date': '2005-01-01',\n",
       "   'value': '14987.679'},\n",
       "  {'realtime_start': '2022-07-22',\n",
       "   'realtime_end': '2022-07-22',\n",
       "   'date': '2006-01-01',\n",
       "   'value': '15368.242'},\n",
       "  {'realtime_start': '2022-07-22',\n",
       "   'realtime_end': '2022-07-22',\n",
       "   'date': '2007-01-01',\n",
       "   'value': '15727.504'},\n",
       "  {'realtime_start': '2022-07-22',\n",
       "   'realtime_end': '2022-07-22',\n",
       "   'date': '2008-01-01',\n",
       "   'value': '15796.274'},\n",
       "  {'realtime_start': '2022-07-22',\n",
       "   'realtime_end': '2022-07-22',\n",
       "   'date': '2009-01-01',\n",
       "   'value': '15395.345'},\n",
       "  {'realtime_start': '2022-07-22',\n",
       "   'realtime_end': '2022-07-22',\n",
       "   'date': '2010-01-01',\n",
       "   'value': '15863.425'},\n",
       "  {'realtime_start': '2022-07-22',\n",
       "   'realtime_end': '2022-07-22',\n",
       "   'date': '2011-01-01',\n",
       "   'value': '16133.673'},\n",
       "  {'realtime_start': '2022-07-22',\n",
       "   'realtime_end': '2022-07-22',\n",
       "   'date': '2012-01-01',\n",
       "   'value': '16486.727'},\n",
       "  {'realtime_start': '2022-07-22',\n",
       "   'realtime_end': '2022-07-22',\n",
       "   'date': '2013-01-01',\n",
       "   'value': '16780.258'},\n",
       "  {'realtime_start': '2022-07-22',\n",
       "   'realtime_end': '2022-07-22',\n",
       "   'date': '2014-01-01',\n",
       "   'value': '17159.215'},\n",
       "  {'realtime_start': '2022-07-22',\n",
       "   'realtime_end': '2022-07-22',\n",
       "   'date': '2015-01-01',\n",
       "   'value': '17602.487'},\n",
       "  {'realtime_start': '2022-07-22',\n",
       "   'realtime_end': '2022-07-22',\n",
       "   'date': '2016-01-01',\n",
       "   'value': '17901.894'},\n",
       "  {'realtime_start': '2022-07-22',\n",
       "   'realtime_end': '2022-07-22',\n",
       "   'date': '2017-01-01',\n",
       "   'value': '18354.584'},\n",
       "  {'realtime_start': '2022-07-22',\n",
       "   'realtime_end': '2022-07-22',\n",
       "   'date': '2018-01-01',\n",
       "   'value': '18874.582'},\n",
       "  {'realtime_start': '2022-07-22',\n",
       "   'realtime_end': '2022-07-22',\n",
       "   'date': '2019-01-01',\n",
       "   'value': '19271.92'},\n",
       "  {'realtime_start': '2022-07-22',\n",
       "   'realtime_end': '2022-07-22',\n",
       "   'date': '2020-01-01',\n",
       "   'value': '18582.295'},\n",
       "  {'realtime_start': '2022-07-22',\n",
       "   'realtime_end': '2022-07-22',\n",
       "   'date': '2021-01-01',\n",
       "   'value': '19644.028'}]}"
      ]
     },
     "metadata": {},
     "output_type": "display_data"
    }
   ],
   "source": [
    "url = f\"https://api.stlouisfed.org/fred/series/observations?series_id=GNPCA&api_key={key}&file_type=json\"\n",
    "\n",
    "response = requests.get(url)\n",
    "display(response.status_code)\n",
    "display(response.content)\n",
    "display(response.json())"
   ]
  },
  {
   "cell_type": "markdown",
   "metadata": {},
   "source": [
    "### Als DataFrame\n",
    "\n",
    "Alle Werte werden default als \"object\" geparsed. D.h. man muss sich auf jeden Fall Gedanken über die Datentypen machen. Leider hat json_normalize keinen Parameter für Datentypen, so dass es umständlich wird. Ich plädiere daher dafür, dass man die Timeseries, die man nutzen möchte, einmal ordentlich aufbereitet und dann direkt in einer DB ablegt, damit alle die saubere Series nutzen können."
   ]
  },
  {
   "cell_type": "code",
   "execution_count": 83,
   "metadata": {},
   "outputs": [
    {
     "data": {
      "text/html": [
       "<div>\n",
       "<style scoped>\n",
       "    .dataframe tbody tr th:only-of-type {\n",
       "        vertical-align: middle;\n",
       "    }\n",
       "\n",
       "    .dataframe tbody tr th {\n",
       "        vertical-align: top;\n",
       "    }\n",
       "\n",
       "    .dataframe thead th {\n",
       "        text-align: right;\n",
       "    }\n",
       "</style>\n",
       "<table border=\"1\" class=\"dataframe\">\n",
       "  <thead>\n",
       "    <tr style=\"text-align: right;\">\n",
       "      <th></th>\n",
       "      <th>realtime_start</th>\n",
       "      <th>realtime_end</th>\n",
       "      <th>date</th>\n",
       "      <th>value</th>\n",
       "    </tr>\n",
       "  </thead>\n",
       "  <tbody>\n",
       "    <tr>\n",
       "      <th>0</th>\n",
       "      <td>2022-07-22</td>\n",
       "      <td>2022-07-22</td>\n",
       "      <td>1929-01-01</td>\n",
       "      <td>1120.718</td>\n",
       "    </tr>\n",
       "    <tr>\n",
       "      <th>1</th>\n",
       "      <td>2022-07-22</td>\n",
       "      <td>2022-07-22</td>\n",
       "      <td>1930-01-01</td>\n",
       "      <td>1025.678</td>\n",
       "    </tr>\n",
       "    <tr>\n",
       "      <th>2</th>\n",
       "      <td>2022-07-22</td>\n",
       "      <td>2022-07-22</td>\n",
       "      <td>1931-01-01</td>\n",
       "      <td>958.927</td>\n",
       "    </tr>\n",
       "    <tr>\n",
       "      <th>3</th>\n",
       "      <td>2022-07-22</td>\n",
       "      <td>2022-07-22</td>\n",
       "      <td>1932-01-01</td>\n",
       "      <td>834.769</td>\n",
       "    </tr>\n",
       "    <tr>\n",
       "      <th>4</th>\n",
       "      <td>2022-07-22</td>\n",
       "      <td>2022-07-22</td>\n",
       "      <td>1933-01-01</td>\n",
       "      <td>823.628</td>\n",
       "    </tr>\n",
       "  </tbody>\n",
       "</table>\n",
       "</div>"
      ],
      "text/plain": [
       "  realtime_start realtime_end       date     value\n",
       "0     2022-07-22   2022-07-22 1929-01-01  1120.718\n",
       "1     2022-07-22   2022-07-22 1930-01-01  1025.678\n",
       "2     2022-07-22   2022-07-22 1931-01-01   958.927\n",
       "3     2022-07-22   2022-07-22 1932-01-01   834.769\n",
       "4     2022-07-22   2022-07-22 1933-01-01   823.628"
      ]
     },
     "execution_count": 83,
     "metadata": {},
     "output_type": "execute_result"
    }
   ],
   "source": [
    "df = pd.json_normalize(response.json(), record_path=\"observations\")\n",
    "df[\"realtime_start\"] = pd.to_datetime(df[\"realtime_start\"])\n",
    "df[\"realtime_end\"] = pd.to_datetime(df[\"realtime_end\"])\n",
    "df[\"date\"] = pd.to_datetime(df[\"date\"])\n",
    "df[\"value\"] = df[\"value\"].astype(float)\n",
    "df.head()"
   ]
  },
  {
   "cell_type": "code",
   "execution_count": 84,
   "metadata": {},
   "outputs": [
    {
     "data": {
      "text/plain": [
       "realtime_start    datetime64[ns]\n",
       "realtime_end      datetime64[ns]\n",
       "date              datetime64[ns]\n",
       "value                    float64\n",
       "dtype: object"
      ]
     },
     "execution_count": 84,
     "metadata": {},
     "output_type": "execute_result"
    }
   ],
   "source": [
    "df.dtypes"
   ]
  },
  {
   "cell_type": "code",
   "execution_count": 85,
   "metadata": {},
   "outputs": [
    {
     "data": {
      "text/plain": [
       "<AxesSubplot:title={'center':'Real Gross National Product'}, xlabel='date', ylabel='Billions of Chained 2012 Dollars'>"
      ]
     },
     "execution_count": 85,
     "metadata": {},
     "output_type": "execute_result"
    },
    {
     "data": {
      "image/png": "[encoded data removed]",
      "text/plain": [
       "<Figure size 864x576 with 1 Axes>"
      ]
     },
     "metadata": {},
     "output_type": "display_data"
    }
   ],
   "source": [
    "df.plot(\n",
    "    x=\"date\",\n",
    "    y=\"value\",\n",
    "    kind=\"scatter\",\n",
    "    figsize=(12,8),\n",
    "    title=\"Real Gross National Product\",\n",
    "    ylabel=\"Billions of Chained 2012 Dollars\"\n",
    ")"
   ]
  },
  {
   "cell_type": "code",
   "execution_count": null,
   "metadata": {},
   "outputs": [],
   "source": []
  }
 ],
 "metadata": {
  "language_info": {
   "name": "python"
  },
  "orig_nbformat": 4
 },
 "nbformat": 4,
 "nbformat_minor": 2
}
